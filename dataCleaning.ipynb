{
 "cells": [
  {
   "cell_type": "markdown",
   "metadata": {},
   "source": [
    "<hr>\n",
    "# Data Cleaning\n",
    "Notebook for initial processing and cleaning of data, prior to EDA.\n",
    "<hr>\n",
    "## Steps\n",
    "<hr>\n",
    "### 1. Load Shard"
   ]
  },
  {
   "cell_type": "code",
   "execution_count": 1,
   "metadata": {
    "collapsed": true
   },
   "outputs": [],
   "source": [
    "# setup\n",
    "import pandas as pd\n",
    "import numpy as np\n",
    "import matplotlib.pyplot as plt\n",
    "%matplotlib inline"
   ]
  },
  {
   "cell_type": "code",
   "execution_count": 25,
   "metadata": {
    "collapsed": false
   },
   "outputs": [],
   "source": [
    "# load shard\n",
    "skipRows = [47, 2330]\n",
    "shard = pd.read_csv('pbp/data/pbp-2013.csv', nrows=10000, skiprows=skipRows)"
   ]
  },
  {
   "cell_type": "code",
   "execution_count": 12,
   "metadata": {
    "collapsed": false
   },
   "outputs": [
    {
     "data": {
      "text/html": [
       "<div>\n",
       "<table border=\"1\" class=\"dataframe\">\n",
       "  <thead>\n",
       "    <tr style=\"text-align: right;\">\n",
       "      <th></th>\n",
       "      <th>GameId</th>\n",
       "      <th>GameDate</th>\n",
       "      <th>Quarter</th>\n",
       "      <th>Minute</th>\n",
       "      <th>Second</th>\n",
       "      <th>OffenseTeam</th>\n",
       "      <th>DefenseTeam</th>\n",
       "      <th>Down</th>\n",
       "      <th>ToGo</th>\n",
       "      <th>YardLine</th>\n",
       "      <th>...</th>\n",
       "      <th>IsTwoPointConversion</th>\n",
       "      <th>IsTwoPointConversionSuccessful</th>\n",
       "      <th>RushDirection</th>\n",
       "      <th>YardLineFixed</th>\n",
       "      <th>YardLineDirection</th>\n",
       "      <th>IsPenaltyAccepted</th>\n",
       "      <th>PenaltyTeam</th>\n",
       "      <th>IsNoPlay</th>\n",
       "      <th>PenaltyType</th>\n",
       "      <th>PenaltyYards</th>\n",
       "    </tr>\n",
       "  </thead>\n",
       "  <tbody>\n",
       "    <tr>\n",
       "      <th>0</th>\n",
       "      <td>2013090901</td>\n",
       "      <td>2013-09-09</td>\n",
       "      <td>1</td>\n",
       "      <td>0</td>\n",
       "      <td>0</td>\n",
       "      <td>NaN</td>\n",
       "      <td>HOU</td>\n",
       "      <td>0</td>\n",
       "      <td>0</td>\n",
       "      <td>0</td>\n",
       "      <td>...</td>\n",
       "      <td>0</td>\n",
       "      <td>0</td>\n",
       "      <td>NaN</td>\n",
       "      <td>0</td>\n",
       "      <td>OWN</td>\n",
       "      <td>0</td>\n",
       "      <td>NaN</td>\n",
       "      <td>0</td>\n",
       "      <td>NaN</td>\n",
       "      <td>0</td>\n",
       "    </tr>\n",
       "    <tr>\n",
       "      <th>1</th>\n",
       "      <td>2013092906</td>\n",
       "      <td>2013-09-29</td>\n",
       "      <td>2</td>\n",
       "      <td>0</td>\n",
       "      <td>0</td>\n",
       "      <td>NaN</td>\n",
       "      <td>PIT</td>\n",
       "      <td>0</td>\n",
       "      <td>0</td>\n",
       "      <td>0</td>\n",
       "      <td>...</td>\n",
       "      <td>0</td>\n",
       "      <td>0</td>\n",
       "      <td>NaN</td>\n",
       "      <td>0</td>\n",
       "      <td>OWN</td>\n",
       "      <td>0</td>\n",
       "      <td>NaN</td>\n",
       "      <td>0</td>\n",
       "      <td>NaN</td>\n",
       "      <td>0</td>\n",
       "    </tr>\n",
       "    <tr>\n",
       "      <th>2</th>\n",
       "      <td>2013111009</td>\n",
       "      <td>2013-11-10</td>\n",
       "      <td>3</td>\n",
       "      <td>0</td>\n",
       "      <td>0</td>\n",
       "      <td>NaN</td>\n",
       "      <td>HOU</td>\n",
       "      <td>0</td>\n",
       "      <td>0</td>\n",
       "      <td>0</td>\n",
       "      <td>...</td>\n",
       "      <td>0</td>\n",
       "      <td>0</td>\n",
       "      <td>NaN</td>\n",
       "      <td>0</td>\n",
       "      <td>OWN</td>\n",
       "      <td>0</td>\n",
       "      <td>NaN</td>\n",
       "      <td>0</td>\n",
       "      <td>NaN</td>\n",
       "      <td>0</td>\n",
       "    </tr>\n",
       "    <tr>\n",
       "      <th>3</th>\n",
       "      <td>2013091502</td>\n",
       "      <td>2013-09-15</td>\n",
       "      <td>3</td>\n",
       "      <td>0</td>\n",
       "      <td>0</td>\n",
       "      <td>NaN</td>\n",
       "      <td>CAR</td>\n",
       "      <td>0</td>\n",
       "      <td>0</td>\n",
       "      <td>0</td>\n",
       "      <td>...</td>\n",
       "      <td>0</td>\n",
       "      <td>0</td>\n",
       "      <td>NaN</td>\n",
       "      <td>0</td>\n",
       "      <td>OWN</td>\n",
       "      <td>0</td>\n",
       "      <td>NaN</td>\n",
       "      <td>0</td>\n",
       "      <td>NaN</td>\n",
       "      <td>0</td>\n",
       "    </tr>\n",
       "    <tr>\n",
       "      <th>4</th>\n",
       "      <td>2013091502</td>\n",
       "      <td>2013-09-15</td>\n",
       "      <td>3</td>\n",
       "      <td>0</td>\n",
       "      <td>0</td>\n",
       "      <td>NaN</td>\n",
       "      <td>CAR</td>\n",
       "      <td>0</td>\n",
       "      <td>0</td>\n",
       "      <td>0</td>\n",
       "      <td>...</td>\n",
       "      <td>0</td>\n",
       "      <td>0</td>\n",
       "      <td>NaN</td>\n",
       "      <td>0</td>\n",
       "      <td>OWN</td>\n",
       "      <td>0</td>\n",
       "      <td>NaN</td>\n",
       "      <td>0</td>\n",
       "      <td>NaN</td>\n",
       "      <td>0</td>\n",
       "    </tr>\n",
       "  </tbody>\n",
       "</table>\n",
       "<p>5 rows × 45 columns</p>\n",
       "</div>"
      ],
      "text/plain": [
       "       GameId    GameDate  Quarter  Minute  Second OffenseTeam DefenseTeam  \\\n",
       "0  2013090901  2013-09-09        1       0       0         NaN         HOU   \n",
       "1  2013092906  2013-09-29        2       0       0         NaN         PIT   \n",
       "2  2013111009  2013-11-10        3       0       0         NaN         HOU   \n",
       "3  2013091502  2013-09-15        3       0       0         NaN         CAR   \n",
       "4  2013091502  2013-09-15        3       0       0         NaN         CAR   \n",
       "\n",
       "   Down  ToGo  YardLine      ...       IsTwoPointConversion  \\\n",
       "0     0     0         0      ...                          0   \n",
       "1     0     0         0      ...                          0   \n",
       "2     0     0         0      ...                          0   \n",
       "3     0     0         0      ...                          0   \n",
       "4     0     0         0      ...                          0   \n",
       "\n",
       "   IsTwoPointConversionSuccessful  RushDirection  YardLineFixed  \\\n",
       "0                               0            NaN              0   \n",
       "1                               0            NaN              0   \n",
       "2                               0            NaN              0   \n",
       "3                               0            NaN              0   \n",
       "4                               0            NaN              0   \n",
       "\n",
       "  YardLineDirection  IsPenaltyAccepted  PenaltyTeam  IsNoPlay  PenaltyType  \\\n",
       "0               OWN                  0          NaN         0          NaN   \n",
       "1               OWN                  0          NaN         0          NaN   \n",
       "2               OWN                  0          NaN         0          NaN   \n",
       "3               OWN                  0          NaN         0          NaN   \n",
       "4               OWN                  0          NaN         0          NaN   \n",
       "\n",
       "   PenaltyYards  \n",
       "0             0  \n",
       "1             0  \n",
       "2             0  \n",
       "3             0  \n",
       "4             0  \n",
       "\n",
       "[5 rows x 45 columns]"
      ]
     },
     "execution_count": 12,
     "metadata": {},
     "output_type": "execute_result"
    }
   ],
   "source": [
    "# check\n",
    "shard.head()"
   ]
  },
  {
   "cell_type": "code",
   "execution_count": 14,
   "metadata": {
    "collapsed": false
   },
   "outputs": [
    {
     "name": "stdout",
     "output_type": "stream",
     "text": [
      "<class 'pandas.core.frame.DataFrame'>\n",
      "RangeIndex: 10000 entries, 0 to 9999\n",
      "Data columns (total 45 columns):\n",
      "GameId                            10000 non-null int64\n",
      "GameDate                          10000 non-null object\n",
      "Quarter                           10000 non-null int64\n",
      "Minute                            10000 non-null int64\n",
      "Second                            10000 non-null int64\n",
      "OffenseTeam                       9194 non-null object\n",
      "DefenseTeam                       10000 non-null object\n",
      "Down                              10000 non-null int64\n",
      "ToGo                              10000 non-null int64\n",
      "YardLine                          10000 non-null int64\n",
      "Unnamed: 10                       0 non-null float64\n",
      "SeriesFirstDown                   10000 non-null int64\n",
      "Unnamed: 12                       0 non-null float64\n",
      "NextScore                         10000 non-null int64\n",
      "Description                       10000 non-null object\n",
      "TeamWin                           10000 non-null int64\n",
      "Unnamed: 16                       0 non-null float64\n",
      "Unnamed: 17                       0 non-null float64\n",
      "SeasonYear                        10000 non-null int64\n",
      "Yards                             10000 non-null int64\n",
      "Formation                         9836 non-null object\n",
      "PlayType                          9638 non-null object\n",
      "IsRush                            10000 non-null int64\n",
      "IsPass                            10000 non-null int64\n",
      "IsIncomplete                      10000 non-null int64\n",
      "IsTouchdown                       10000 non-null int64\n",
      "PassType                          4117 non-null object\n",
      "IsSack                            10000 non-null int64\n",
      "IsChallenge                       10000 non-null int64\n",
      "IsChallengeReversed               10000 non-null int64\n",
      "Challenger                        0 non-null float64\n",
      "IsMeasurement                     10000 non-null int64\n",
      "IsInterception                    10000 non-null int64\n",
      "IsFumble                          10000 non-null int64\n",
      "IsPenalty                         10000 non-null int64\n",
      "IsTwoPointConversion              10000 non-null int64\n",
      "IsTwoPointConversionSuccessful    10000 non-null int64\n",
      "RushDirection                     2647 non-null object\n",
      "YardLineFixed                     10000 non-null int64\n",
      "YardLineDirection                 10000 non-null object\n",
      "IsPenaltyAccepted                 10000 non-null int64\n",
      "PenaltyTeam                       774 non-null object\n",
      "IsNoPlay                          10000 non-null int64\n",
      "PenaltyType                       775 non-null object\n",
      "PenaltyYards                      10000 non-null int64\n",
      "dtypes: float64(5), int64(29), object(11)\n",
      "memory usage: 3.4+ MB\n"
     ]
    }
   ],
   "source": [
    "shard.info()"
   ]
  },
  {
   "cell_type": "markdown",
   "metadata": {},
   "source": [
    "### 2. Clean Data\n",
    "#### a. Restrict to offensive plays only"
   ]
  },
  {
   "cell_type": "code",
   "execution_count": 26,
   "metadata": {
    "collapsed": false
   },
   "outputs": [],
   "source": [
    "shard = shard[(shard.IsRush==1) | (shard.IsPass==1)]"
   ]
  },
  {
   "cell_type": "markdown",
   "metadata": {},
   "source": [
    "#### b. Remove unnamed columns"
   ]
  },
  {
   "cell_type": "code",
   "execution_count": 27,
   "metadata": {
    "collapsed": false
   },
   "outputs": [],
   "source": [
    "shard = shard.drop([\"Unnamed: 10\", \"Unnamed: 12\", \"Unnamed: 16\", \"Unnamed: 17\"], axis=1)"
   ]
  },
  {
   "cell_type": "code",
   "execution_count": 28,
   "metadata": {
    "collapsed": false
   },
   "outputs": [
    {
     "name": "stdout",
     "output_type": "stream",
     "text": [
      "<class 'pandas.core.frame.DataFrame'>\n",
      "Int64Index: 6940 entries, 45 to 9997\n",
      "Data columns (total 41 columns):\n",
      "GameId                            6940 non-null int64\n",
      "GameDate                          6940 non-null object\n",
      "Quarter                           6940 non-null int64\n",
      "Minute                            6940 non-null int64\n",
      "Second                            6940 non-null int64\n",
      "OffenseTeam                       6940 non-null object\n",
      "DefenseTeam                       6940 non-null object\n",
      "Down                              6940 non-null int64\n",
      "ToGo                              6940 non-null int64\n",
      "YardLine                          6940 non-null int64\n",
      "SeriesFirstDown                   6940 non-null int64\n",
      "NextScore                         6940 non-null int64\n",
      "Description                       6940 non-null object\n",
      "TeamWin                           6940 non-null int64\n",
      "SeasonYear                        6940 non-null int64\n",
      "Yards                             6940 non-null int64\n",
      "Formation                         6940 non-null object\n",
      "PlayType                          6940 non-null object\n",
      "IsRush                            6940 non-null int64\n",
      "IsPass                            6940 non-null int64\n",
      "IsIncomplete                      6940 non-null int64\n",
      "IsTouchdown                       6940 non-null int64\n",
      "PassType                          4117 non-null object\n",
      "IsSack                            6940 non-null int64\n",
      "IsChallenge                       6940 non-null int64\n",
      "IsChallengeReversed               6940 non-null int64\n",
      "Challenger                        0 non-null float64\n",
      "IsMeasurement                     6940 non-null int64\n",
      "IsInterception                    6940 non-null int64\n",
      "IsFumble                          6940 non-null int64\n",
      "IsPenalty                         6940 non-null int64\n",
      "IsTwoPointConversion              6940 non-null int64\n",
      "IsTwoPointConversionSuccessful    6940 non-null int64\n",
      "RushDirection                     2647 non-null object\n",
      "YardLineFixed                     6940 non-null int64\n",
      "YardLineDirection                 6940 non-null object\n",
      "IsPenaltyAccepted                 6940 non-null int64\n",
      "PenaltyTeam                       440 non-null object\n",
      "IsNoPlay                          6940 non-null int64\n",
      "PenaltyType                       440 non-null object\n",
      "PenaltyYards                      6940 non-null int64\n",
      "dtypes: float64(1), int64(29), object(11)\n",
      "memory usage: 2.2+ MB\n"
     ]
    }
   ],
   "source": [
    "shard.info()"
   ]
  },
  {
   "cell_type": "markdown",
   "metadata": {},
   "source": [
    "#### c. Parse <code>Description</code> for player names, numbers"
   ]
  },
  {
   "cell_type": "code",
   "execution_count": 44,
   "metadata": {
    "collapsed": true
   },
   "outputs": [],
   "source": [
    "import re\n",
    "\n",
    "pattern = re.compile(\"(?:\\s)([0-9]*-.\\.[A-Z]*)\")"
   ]
  },
  {
   "cell_type": "code",
   "execution_count": 46,
   "metadata": {
    "collapsed": false
   },
   "outputs": [
    {
     "name": "stdout",
     "output_type": "stream",
     "text": [
      "(10:31) 5-J.FLACCO PASS SHORT LEFT TO 44-V.LEACH PUSHED OB AT BAL 38 FOR 4 YARDS (59-D.TREVATHAN).\n"
     ]
    },
    {
     "data": {
      "text/plain": [
       "['5-J.FLACCO', '44-V.LEACH']"
      ]
     },
     "execution_count": 46,
     "metadata": {},
     "output_type": "execute_result"
    }
   ],
   "source": [
    "# select test string\n",
    "print shard.Description[124]\n",
    "\n",
    "# test pattern\n",
    "pattern.findall(shard.Description[124])"
   ]
  },
  {
   "cell_type": "markdown",
   "metadata": {},
   "source": [
    "#### d. Add column for <code>Players</code>"
   ]
  },
  {
   "cell_type": "code",
   "execution_count": 49,
   "metadata": {
    "collapsed": false
   },
   "outputs": [],
   "source": [
    "shard[\"Players\"] = shard.Description.apply(lambda x: pattern.findall(x))"
   ]
  },
  {
   "cell_type": "code",
   "execution_count": 51,
   "metadata": {
    "collapsed": false
   },
   "outputs": [
    {
     "name": "stdout",
     "output_type": "stream",
     "text": [
      "<class 'pandas.core.frame.DataFrame'>\n",
      "Int64Index: 6940 entries, 45 to 9997\n",
      "Data columns (total 42 columns):\n",
      "GameId                            6940 non-null int64\n",
      "GameDate                          6940 non-null object\n",
      "Quarter                           6940 non-null int64\n",
      "Minute                            6940 non-null int64\n",
      "Second                            6940 non-null int64\n",
      "OffenseTeam                       6940 non-null object\n",
      "DefenseTeam                       6940 non-null object\n",
      "Down                              6940 non-null int64\n",
      "ToGo                              6940 non-null int64\n",
      "YardLine                          6940 non-null int64\n",
      "SeriesFirstDown                   6940 non-null int64\n",
      "NextScore                         6940 non-null int64\n",
      "Description                       6940 non-null object\n",
      "TeamWin                           6940 non-null int64\n",
      "SeasonYear                        6940 non-null int64\n",
      "Yards                             6940 non-null int64\n",
      "Formation                         6940 non-null object\n",
      "PlayType                          6940 non-null object\n",
      "IsRush                            6940 non-null int64\n",
      "IsPass                            6940 non-null int64\n",
      "IsIncomplete                      6940 non-null int64\n",
      "IsTouchdown                       6940 non-null int64\n",
      "PassType                          4117 non-null object\n",
      "IsSack                            6940 non-null int64\n",
      "IsChallenge                       6940 non-null int64\n",
      "IsChallengeReversed               6940 non-null int64\n",
      "Challenger                        0 non-null float64\n",
      "IsMeasurement                     6940 non-null int64\n",
      "IsInterception                    6940 non-null int64\n",
      "IsFumble                          6940 non-null int64\n",
      "IsPenalty                         6940 non-null int64\n",
      "IsTwoPointConversion              6940 non-null int64\n",
      "IsTwoPointConversionSuccessful    6940 non-null int64\n",
      "RushDirection                     2647 non-null object\n",
      "YardLineFixed                     6940 non-null int64\n",
      "YardLineDirection                 6940 non-null object\n",
      "IsPenaltyAccepted                 6940 non-null int64\n",
      "PenaltyTeam                       440 non-null object\n",
      "IsNoPlay                          6940 non-null int64\n",
      "PenaltyType                       440 non-null object\n",
      "PenaltyYards                      6940 non-null int64\n",
      "Players                           6940 non-null object\n",
      "dtypes: float64(1), int64(29), object(12)\n",
      "memory usage: 2.3+ MB\n"
     ]
    }
   ],
   "source": [
    "shard.info()"
   ]
  },
  {
   "cell_type": "markdown",
   "metadata": {},
   "source": [
    "#### e. Add columns for <code>Passer, Rusher, Receiver</code>"
   ]
  },
  {
   "cell_type": "code",
   "execution_count": 85,
   "metadata": {
    "collapsed": false
   },
   "outputs": [
    {
     "name": "stdout",
     "output_type": "stream",
     "text": [
      "<class 'pandas.core.frame.DataFrame'>\n",
      "Int64Index: 6940 entries, 45 to 9997\n",
      "Data columns (total 43 columns):\n",
      "GameId                            6940 non-null int64\n",
      "GameDate                          6940 non-null object\n",
      "Quarter                           6940 non-null int64\n",
      "Minute                            6940 non-null int64\n",
      "Second                            6940 non-null int64\n",
      "OffenseTeam                       6940 non-null object\n",
      "DefenseTeam                       6940 non-null object\n",
      "Down                              6940 non-null int64\n",
      "ToGo                              6940 non-null int64\n",
      "YardLine                          6940 non-null int64\n",
      "SeriesFirstDown                   6940 non-null int64\n",
      "NextScore                         6940 non-null int64\n",
      "Description                       6940 non-null object\n",
      "TeamWin                           6940 non-null int64\n",
      "SeasonYear                        6940 non-null int64\n",
      "Yards                             6940 non-null int64\n",
      "Formation                         6940 non-null object\n",
      "PlayType                          6940 non-null object\n",
      "IsRush                            6940 non-null int64\n",
      "IsPass                            6940 non-null int64\n",
      "IsIncomplete                      6940 non-null int64\n",
      "IsTouchdown                       6940 non-null int64\n",
      "PassType                          4117 non-null object\n",
      "IsSack                            6940 non-null int64\n",
      "IsChallenge                       6940 non-null int64\n",
      "IsChallengeReversed               6940 non-null int64\n",
      "Challenger                        0 non-null float64\n",
      "IsMeasurement                     6940 non-null int64\n",
      "IsInterception                    6940 non-null int64\n",
      "IsFumble                          6940 non-null int64\n",
      "IsPenalty                         6940 non-null int64\n",
      "IsTwoPointConversion              6940 non-null int64\n",
      "IsTwoPointConversionSuccessful    6940 non-null int64\n",
      "RushDirection                     2647 non-null object\n",
      "YardLineFixed                     6940 non-null int64\n",
      "YardLineDirection                 6940 non-null object\n",
      "IsPenaltyAccepted                 6940 non-null int64\n",
      "PenaltyTeam                       440 non-null object\n",
      "IsNoPlay                          6940 non-null int64\n",
      "PenaltyType                       440 non-null object\n",
      "PenaltyYards                      6940 non-null int64\n",
      "Players                           6940 non-null object\n",
      "Passer                            4117 non-null object\n",
      "dtypes: float64(1), int64(29), object(13)\n",
      "memory usage: 2.3+ MB\n"
     ]
    }
   ],
   "source": [
    "# add Passer\n",
    "shard[\"Passer\"] = shard.where(shard.IsPass==1).apply(lambda x: x[\"Players\"][0] if type(x[\"Players\"])!=float else None, axis=1)\n",
    "\n",
    "shard.info()"
   ]
  },
  {
   "cell_type": "code",
   "execution_count": 98,
   "metadata": {
    "collapsed": false
   },
   "outputs": [
    {
     "data": {
      "text/plain": [
       "45       7-C.PONDER\n",
       "74             None\n",
       "82             None\n",
       "111      5-J.FLACCO\n",
       "112            None\n",
       "113      5-J.FLACCO\n",
       "115    18-P.MANNING\n",
       "116            None\n",
       "117    18-P.MANNING\n",
       "118    18-P.MANNING\n",
       "Name: Passer, dtype: object"
      ]
     },
     "execution_count": 98,
     "metadata": {},
     "output_type": "execute_result"
    }
   ],
   "source": [
    "shard.Passer[:10]"
   ]
  },
  {
   "cell_type": "code",
   "execution_count": 90,
   "metadata": {
    "collapsed": false
   },
   "outputs": [
    {
     "name": "stdout",
     "output_type": "stream",
     "text": [
      "<class 'pandas.core.frame.DataFrame'>\n",
      "Int64Index: 6940 entries, 45 to 9997\n",
      "Data columns (total 44 columns):\n",
      "GameId                            6940 non-null int64\n",
      "GameDate                          6940 non-null object\n",
      "Quarter                           6940 non-null int64\n",
      "Minute                            6940 non-null int64\n",
      "Second                            6940 non-null int64\n",
      "OffenseTeam                       6940 non-null object\n",
      "DefenseTeam                       6940 non-null object\n",
      "Down                              6940 non-null int64\n",
      "ToGo                              6940 non-null int64\n",
      "YardLine                          6940 non-null int64\n",
      "SeriesFirstDown                   6940 non-null int64\n",
      "NextScore                         6940 non-null int64\n",
      "Description                       6940 non-null object\n",
      "TeamWin                           6940 non-null int64\n",
      "SeasonYear                        6940 non-null int64\n",
      "Yards                             6940 non-null int64\n",
      "Formation                         6940 non-null object\n",
      "PlayType                          6940 non-null object\n",
      "IsRush                            6940 non-null int64\n",
      "IsPass                            6940 non-null int64\n",
      "IsIncomplete                      6940 non-null int64\n",
      "IsTouchdown                       6940 non-null int64\n",
      "PassType                          4117 non-null object\n",
      "IsSack                            6940 non-null int64\n",
      "IsChallenge                       6940 non-null int64\n",
      "IsChallengeReversed               6940 non-null int64\n",
      "Challenger                        0 non-null float64\n",
      "IsMeasurement                     6940 non-null int64\n",
      "IsInterception                    6940 non-null int64\n",
      "IsFumble                          6940 non-null int64\n",
      "IsPenalty                         6940 non-null int64\n",
      "IsTwoPointConversion              6940 non-null int64\n",
      "IsTwoPointConversionSuccessful    6940 non-null int64\n",
      "RushDirection                     2647 non-null object\n",
      "YardLineFixed                     6940 non-null int64\n",
      "YardLineDirection                 6940 non-null object\n",
      "IsPenaltyAccepted                 6940 non-null int64\n",
      "PenaltyTeam                       440 non-null object\n",
      "IsNoPlay                          6940 non-null int64\n",
      "PenaltyType                       440 non-null object\n",
      "PenaltyYards                      6940 non-null int64\n",
      "Players                           6940 non-null object\n",
      "Passer                            4117 non-null object\n",
      "Receiver                          4068 non-null object\n",
      "dtypes: float64(1), int64(29), object(14)\n",
      "memory usage: 2.4+ MB\n"
     ]
    }
   ],
   "source": [
    "# add Receiver\n",
    "shard[\"Receiver\"] = shard.where(shard.IsPass==1).apply(lambda x: x[\"Players\"][1] \\\n",
    "                                                       if (type(x[\"Players\"])!=float) and (len(x[\"Players\"])>1) \\\n",
    "                                                       else None, axis=1)\n",
    "\n",
    "shard.info()"
   ]
  },
  {
   "cell_type": "code",
   "execution_count": 97,
   "metadata": {
    "collapsed": false
   },
   "outputs": [
    {
     "data": {
      "text/plain": [
       "45             None\n",
       "74             None\n",
       "82             None\n",
       "111       27-R.RICE\n",
       "112            None\n",
       "113    80-B.STOKLEY\n",
       "115     80-J.THOMAS\n",
       "116            None\n",
       "117     83-W.WELKER\n",
       "118     87-E.DECKER\n",
       "Name: Receiver, dtype: object"
      ]
     },
     "execution_count": 97,
     "metadata": {},
     "output_type": "execute_result"
    }
   ],
   "source": [
    "shard.Receiver[:10]"
   ]
  },
  {
   "cell_type": "code",
   "execution_count": 93,
   "metadata": {
    "collapsed": false
   },
   "outputs": [
    {
     "name": "stdout",
     "output_type": "stream",
     "text": [
      "<class 'pandas.core.frame.DataFrame'>\n",
      "Int64Index: 6940 entries, 45 to 9997\n",
      "Data columns (total 45 columns):\n",
      "GameId                            6940 non-null int64\n",
      "GameDate                          6940 non-null object\n",
      "Quarter                           6940 non-null int64\n",
      "Minute                            6940 non-null int64\n",
      "Second                            6940 non-null int64\n",
      "OffenseTeam                       6940 non-null object\n",
      "DefenseTeam                       6940 non-null object\n",
      "Down                              6940 non-null int64\n",
      "ToGo                              6940 non-null int64\n",
      "YardLine                          6940 non-null int64\n",
      "SeriesFirstDown                   6940 non-null int64\n",
      "NextScore                         6940 non-null int64\n",
      "Description                       6940 non-null object\n",
      "TeamWin                           6940 non-null int64\n",
      "SeasonYear                        6940 non-null int64\n",
      "Yards                             6940 non-null int64\n",
      "Formation                         6940 non-null object\n",
      "PlayType                          6940 non-null object\n",
      "IsRush                            6940 non-null int64\n",
      "IsPass                            6940 non-null int64\n",
      "IsIncomplete                      6940 non-null int64\n",
      "IsTouchdown                       6940 non-null int64\n",
      "PassType                          4117 non-null object\n",
      "IsSack                            6940 non-null int64\n",
      "IsChallenge                       6940 non-null int64\n",
      "IsChallengeReversed               6940 non-null int64\n",
      "Challenger                        0 non-null float64\n",
      "IsMeasurement                     6940 non-null int64\n",
      "IsInterception                    6940 non-null int64\n",
      "IsFumble                          6940 non-null int64\n",
      "IsPenalty                         6940 non-null int64\n",
      "IsTwoPointConversion              6940 non-null int64\n",
      "IsTwoPointConversionSuccessful    6940 non-null int64\n",
      "RushDirection                     2647 non-null object\n",
      "YardLineFixed                     6940 non-null int64\n",
      "YardLineDirection                 6940 non-null object\n",
      "IsPenaltyAccepted                 6940 non-null int64\n",
      "PenaltyTeam                       440 non-null object\n",
      "IsNoPlay                          6940 non-null int64\n",
      "PenaltyType                       440 non-null object\n",
      "PenaltyYards                      6940 non-null int64\n",
      "Players                           6940 non-null object\n",
      "Passer                            4117 non-null object\n",
      "Receiver                          4068 non-null object\n",
      "Rusher                            2823 non-null object\n",
      "dtypes: float64(1), int64(29), object(15)\n",
      "memory usage: 2.4+ MB\n"
     ]
    }
   ],
   "source": [
    "# add Rusher\n",
    "shard[\"Rusher\"] = shard.where(shard.IsRush==1).apply(lambda x: x[\"Players\"][0] if type(x[\"Players\"])!=float else None, axis=1)\\\n",
    "\n",
    "shard.info()"
   ]
  },
  {
   "cell_type": "code",
   "execution_count": 95,
   "metadata": {
    "collapsed": false
   },
   "outputs": [
    {
     "data": {
      "text/plain": [
       "45            None\n",
       "74     38-B.BOLDEN\n",
       "82     46-A.MORRIS\n",
       "111           None\n",
       "112      27-R.RICE\n",
       "113           None\n",
       "115           None\n",
       "116    27-K.MORENO\n",
       "117           None\n",
       "118           None\n",
       "Name: Rusher, dtype: object"
      ]
     },
     "execution_count": 95,
     "metadata": {},
     "output_type": "execute_result"
    }
   ],
   "source": [
    "shard.Rusher[:10]"
   ]
  },
  {
   "cell_type": "markdown",
   "metadata": {},
   "source": [
    "### 3. Engineer Features\n",
    "\n",
    "The purpose of using PBP data is to identify metrics such as Yards Per Carry (YPC) that might be useful for predicting a player's fantasy points.\n",
    "\n",
    "Metrics of interest:\n",
    "- Yards Per Carry (Outliers Removed)\n",
    "- Yards Per Reception\n",
    "- Yards Per Reception (Outliers Removed)\n",
    "- Yards Per Carry Allowed\n",
    "- Yards Per Carry Allowed (Outliers Removed)\n",
    "- Yards Per Reception Allowed\n",
    "- Yards Per Reception Allowed (Outliers Removed)\n",
    "- First Downs Gained Per Game (Relative to league avg)\n",
    "- Yards Per Play By Team, Formation & Play Type\n",
    "- % Carries 10+ Yards\n",
    "- % Receptions 10+ Yards\n",
    "- Expected Points Added (EPA)\n",
    "- Adjusted Line Yards (YPC adjusted for defenses, line position, etc. RBs only)\n",
    "- Distribution of Yards Gained Per Play (for RBs and WRs)"
   ]
  },
  {
   "cell_type": "code",
   "execution_count": 55,
   "metadata": {
    "collapsed": false
   },
   "outputs": [
    {
     "data": {
      "text/plain": [
       "array(['UNDER CENTER', 'SHOTGUN', 'NO HUDDLE SHOTGUN', 'NO HUDDLE'], dtype=object)"
      ]
     },
     "execution_count": 55,
     "metadata": {},
     "output_type": "execute_result"
    }
   ],
   "source": [
    "shard.Formation.unique()"
   ]
  },
  {
   "cell_type": "markdown",
   "metadata": {},
   "source": [
    "### Map Player Names to Positions\n",
    "#### a. Scrape player name, team, number"
   ]
  },
  {
   "cell_type": "code",
   "execution_count": 137,
   "metadata": {
    "collapsed": false
   },
   "outputs": [],
   "source": [
    "import bs4\n",
    "import requests\n",
    "from string import maketrans\n",
    "\n",
    "# url to scrape player data, use url.format(year, page)\n",
    "url = \"http://www.foxsports.com/nfl/players?teamId=0&season={}&position=0&page={}&country=0&grouping=0&weightclass=0\""
   ]
  },
  {
   "cell_type": "code",
   "execution_count": 283,
   "metadata": {
    "collapsed": true
   },
   "outputs": [],
   "source": [
    "def extract_page_content(content):\n",
    "    # parse html\n",
    "    soup = bs4.BeautifulSoup(content, 'html.parser')\n",
    "    rows = test_soup.find('div', class_=re.compile('wisbb_playersTable')).find(\"tbody\").findAll(\"tr\")\n",
    "    \n",
    "    # get raw strings for content of each td\n",
    "    num_pos = [[el.text.strip() for el in row.findAll(\"td\")[2:4]] for row in rows]\n",
    "    raw_name = [[el.find(\"span\").text.strip() for el in row.findAll(\"td\")[:1]] for row in rows]\n",
    "    team = [[el.text.strip() for el in row.findAll(\"td\")[1:2]] for row in rows]\n",
    "    \n",
    "    # rearrange raw_name\n",
    "    name = [[' '.join(el[0].split(\",\")[::-1]).strip()] for el in raw_name]\n",
    "    \n",
    "    return [el[0]+el[1]+el[2] for el in zip(name, team, num_pos)]\n",
    "\n",
    "def scrape_nfl_roster(year, pages):\n",
    "    players = []\n",
    "    for page in xrange(1,pages):\n",
    "        response = requests.get(url.format(year, page))\n",
    "        players.append(extract_page_content(response.content))\n",
    "        \n",
    "    return players"
   ]
  },
  {
   "cell_type": "code",
   "execution_count": 111,
   "metadata": {
    "collapsed": false
   },
   "outputs": [],
   "source": [
    "# create parsing code\n",
    "test_response = requests.get(url.format(2013, 1))"
   ]
  },
  {
   "cell_type": "code",
   "execution_count": 284,
   "metadata": {
    "collapsed": false
   },
   "outputs": [],
   "source": [
    "test_content = extract_page_content(test_response.content)"
   ]
  },
  {
   "cell_type": "code",
   "execution_count": 285,
   "metadata": {
    "collapsed": false
   },
   "outputs": [
    {
     "data": {
      "text/plain": [
       "[[u\"J.J. 'Unga\", u'BUF', u'64', u'T'],\n",
       " [u'Isaako Aaitui', u'MIA', u'97', u'DT'],\n",
       " [u'Isa Abdul-Quddus', u'DET', u'-', u'S'],\n",
       " [u'Husain Abdullah', u'KC', u'39', u'S'],\n",
       " [u'Oday Aboushi', u'NYJ', u'75', u'T'],\n",
       " [u'John Abraham', u'ARZ', u'55', u'LB'],\n",
       " [u'Emmanuel Acho', u'PHI', u'51', u'LB'],\n",
       " [u'Sam Acho', u'ARZ', u'94', u'LB'],\n",
       " [u'Aaron Adams', u'GB', u'77', u'T'],\n",
       " [u'Corey Adams', u'ATL', u'48', u'LB']]"
      ]
     },
     "execution_count": 285,
     "metadata": {},
     "output_type": "execute_result"
    }
   ],
   "source": [
    "test_content[:10]"
   ]
  },
  {
   "cell_type": "markdown",
   "metadata": {
    "collapsed": true
   },
   "source": [
    "#### b. Create Postgres table with player info"
   ]
  },
  {
   "cell_type": "code",
   "execution_count": 227,
   "metadata": {
    "collapsed": false
   },
   "outputs": [],
   "source": [
    "import psycopg2"
   ]
  },
  {
   "cell_type": "code",
   "execution_count": 238,
   "metadata": {
    "collapsed": false
   },
   "outputs": [],
   "source": [
    "# open connetion to db\n",
    "try:\n",
    "    conn = psycopg2.connect(database=\"fantasyanalytics\")\n",
    "except:\n",
    "    print \"ERROR: Unable to connect to db.\""
   ]
  },
  {
   "cell_type": "code",
   "execution_count": 240,
   "metadata": {
    "collapsed": true
   },
   "outputs": [],
   "source": [
    "# setup cursor\n",
    "cur = conn.cursor()"
   ]
  },
  {
   "cell_type": "code",
   "execution_count": 295,
   "metadata": {
    "collapsed": false
   },
   "outputs": [],
   "source": [
    "# create new table\n",
    "cur.execute(\"CREATE TABLE players (id serial PRIMARY KEY, name text, team varchar(3), number varchar(2), position varchar(3));\")"
   ]
  },
  {
   "cell_type": "code",
   "execution_count": 296,
   "metadata": {
    "collapsed": false
   },
   "outputs": [],
   "source": [
    "# insert test rows into table\n",
    "test_string = \",\".join(cur.mogrify(\"(%s,%s,%s,%s)\", x) for x in test_content)\n",
    "cur.execute(\"INSERT INTO players (name, team, number, position) VALUES \" + test_string)"
   ]
  },
  {
   "cell_type": "code",
   "execution_count": 298,
   "metadata": {
    "collapsed": false
   },
   "outputs": [
    {
     "name": "stdout",
     "output_type": "stream",
     "text": [
      "(1, \"J.J. 'Unga\", 'BUF', '64', 'T')\n",
      "(2, 'Isaako Aaitui', 'MIA', '97', 'DT')\n",
      "(3, 'Isa Abdul-Quddus', 'DET', '-', 'S')\n",
      "(4, 'Husain Abdullah', 'KC', '39', 'S')\n",
      "(5, 'Oday Aboushi', 'NYJ', '75', 'T')\n",
      "(6, 'John Abraham', 'ARZ', '55', 'LB')\n",
      "(7, 'Emmanuel Acho', 'PHI', '51', 'LB')\n",
      "(8, 'Sam Acho', 'ARZ', '94', 'LB')\n",
      "(9, 'Aaron Adams', 'GB', '77', 'T')\n",
      "(10, 'Corey Adams', 'ATL', '48', 'LB')\n"
     ]
    }
   ],
   "source": [
    "# check rows were inserted correctly\n",
    "cur.execute(\"SELECT * FROM players LIMIT 10\")\n",
    "for record in cur:\n",
    "    print record"
   ]
  },
  {
   "cell_type": "markdown",
   "metadata": {},
   "source": [
    "#### c. Map player id from <code>players</code> table to <code>Passer, Rusher, Receiver</code> in play data"
   ]
  },
  {
   "cell_type": "code",
   "execution_count": 302,
   "metadata": {
    "collapsed": false
   },
   "outputs": [
    {
     "data": {
      "text/html": [
       "<div>\n",
       "<table border=\"1\" class=\"dataframe\">\n",
       "  <thead>\n",
       "    <tr style=\"text-align: right;\">\n",
       "      <th></th>\n",
       "      <th>OffenseTeam</th>\n",
       "      <th>Players</th>\n",
       "      <th>Passer</th>\n",
       "      <th>Rusher</th>\n",
       "      <th>Receiver</th>\n",
       "    </tr>\n",
       "  </thead>\n",
       "  <tbody>\n",
       "    <tr>\n",
       "      <th>45</th>\n",
       "      <td>MIN</td>\n",
       "      <td>[7-C.PONDER]</td>\n",
       "      <td>7-C.PONDER</td>\n",
       "      <td>None</td>\n",
       "      <td>None</td>\n",
       "    </tr>\n",
       "    <tr>\n",
       "      <th>74</th>\n",
       "      <td>NE</td>\n",
       "      <td>[38-B.BOLDEN]</td>\n",
       "      <td>None</td>\n",
       "      <td>38-B.BOLDEN</td>\n",
       "      <td>None</td>\n",
       "    </tr>\n",
       "    <tr>\n",
       "      <th>82</th>\n",
       "      <td>WAS</td>\n",
       "      <td>[46-A.MORRIS]</td>\n",
       "      <td>None</td>\n",
       "      <td>46-A.MORRIS</td>\n",
       "      <td>None</td>\n",
       "    </tr>\n",
       "    <tr>\n",
       "      <th>111</th>\n",
       "      <td>BAL</td>\n",
       "      <td>[5-J.FLACCO, 27-R.RICE]</td>\n",
       "      <td>5-J.FLACCO</td>\n",
       "      <td>None</td>\n",
       "      <td>27-R.RICE</td>\n",
       "    </tr>\n",
       "    <tr>\n",
       "      <th>112</th>\n",
       "      <td>BAL</td>\n",
       "      <td>[27-R.RICE]</td>\n",
       "      <td>None</td>\n",
       "      <td>27-R.RICE</td>\n",
       "      <td>None</td>\n",
       "    </tr>\n",
       "  </tbody>\n",
       "</table>\n",
       "</div>"
      ],
      "text/plain": [
       "    OffenseTeam                  Players      Passer       Rusher   Receiver\n",
       "45          MIN             [7-C.PONDER]  7-C.PONDER         None       None\n",
       "74           NE            [38-B.BOLDEN]        None  38-B.BOLDEN       None\n",
       "82          WAS            [46-A.MORRIS]        None  46-A.MORRIS       None\n",
       "111         BAL  [5-J.FLACCO, 27-R.RICE]  5-J.FLACCO         None  27-R.RICE\n",
       "112         BAL              [27-R.RICE]        None    27-R.RICE       None"
      ]
     },
     "execution_count": 302,
     "metadata": {},
     "output_type": "execute_result"
    }
   ],
   "source": [
    "shard[[\"OffenseTeam\", \"Players\", \"Passer\", \"Rusher\", \"Receiver\"]].head()"
   ]
  },
  {
   "cell_type": "code",
   "execution_count": null,
   "metadata": {
    "collapsed": true
   },
   "outputs": [],
   "source": [
    "    "
   ]
  }
 ],
 "metadata": {
  "anaconda-cloud": {},
  "kernelspec": {
   "display_name": "Python [Root]",
   "language": "python",
   "name": "Python [Root]"
  },
  "language_info": {
   "codemirror_mode": {
    "name": "ipython",
    "version": 2
   },
   "file_extension": ".py",
   "mimetype": "text/x-python",
   "name": "python",
   "nbconvert_exporter": "python",
   "pygments_lexer": "ipython2",
   "version": "2.7.12"
  }
 },
 "nbformat": 4,
 "nbformat_minor": 0
}
